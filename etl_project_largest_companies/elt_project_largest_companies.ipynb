{
 "cells": [
  {
   "cell_type": "code",
   "execution_count": 1,
   "id": "012c683b",
   "metadata": {},
   "outputs": [],
   "source": [
    "from bs4 import BeautifulSoup\n",
    "import requests\n",
    "import pandas as pd\n",
    "import numpy as np\n",
    "import sqlite3\n",
    "from datetime import datetime"
   ]
  },
  {
   "cell_type": "code",
   "execution_count": 2,
   "id": "2628b158",
   "metadata": {},
   "outputs": [],
   "source": [
    "url ='https://en.wikipedia.org/wiki/List_of_largest_companies_in_the_United_States_by_revenue'\n",
    "table_attribs = [\"Rank \", \"Name\", \"Industry\", \"Revenue_USD_millions\", \"Revenue_growth_%\", \"Employees\",\"Headquarters\"]\n",
    "db_name = 'Largest_Companies.db'\n",
    "table_name = 'companies'\n",
    "csv_path = './Largest_companies.csv'\n",
    "\n",
    "def extract(url, table_attribs):\n",
    "    page = requests.get(url)\n",
    "    soup = BeautifulSoup(page.text, 'html.parser')\n",
    "    tables = soup.find_all('table')\n",
    "    df = pd.DataFrame(columns=table_attribs)\n",
    "    rows = tables[1].find_all('tr')\n",
    "    for row in rows:\n",
    "        cols = row.find_all('td')\n",
    "        if len(cols) != 0:\n",
    "            data = [col.text.strip() for col in cols]       \n",
    "            df.loc[len(df)] = data\n",
    "    return df"
   ]
  },
  {
   "cell_type": "code",
   "execution_count": 3,
   "id": "f0cc2bb6",
   "metadata": {},
   "outputs": [],
   "source": [
    "df = extract(url, table_attribs)"
   ]
  },
  {
   "cell_type": "code",
   "execution_count": 4,
   "id": "ec9dbd54",
   "metadata": {},
   "outputs": [
    {
     "name": "stdout",
     "output_type": "stream",
     "text": [
      "<class 'pandas.core.frame.DataFrame'>\n",
      "Index: 100 entries, 0 to 99\n",
      "Data columns (total 7 columns):\n",
      " #   Column                Non-Null Count  Dtype \n",
      "---  ------                --------------  ----- \n",
      " 0   Rank                  100 non-null    object\n",
      " 1   Name                  100 non-null    object\n",
      " 2   Industry              100 non-null    object\n",
      " 3   Revenue_USD_millions  100 non-null    object\n",
      " 4   Revenue_growth_%      100 non-null    object\n",
      " 5   Employees             100 non-null    object\n",
      " 6   Headquarters          100 non-null    object\n",
      "dtypes: object(7)\n",
      "memory usage: 6.2+ KB\n"
     ]
    }
   ],
   "source": [
    "df.info()"
   ]
  },
  {
   "cell_type": "code",
   "execution_count": 5,
   "id": "b4e50ff3",
   "metadata": {},
   "outputs": [],
   "source": [
    "def transform(df):\n",
    "    for col in df.columns[3:6]:\n",
    "        df[col] = df[col].map(\n",
    "            lambda x: float(str(x).replace(',', '').replace('%', ''))\n",
    "        )\n",
    "    return df"
   ]
  },
  {
   "cell_type": "code",
   "execution_count": 6,
   "id": "42bde65e",
   "metadata": {},
   "outputs": [
    {
     "name": "stdout",
     "output_type": "stream",
     "text": [
      "<class 'pandas.core.frame.DataFrame'>\n",
      "Index: 100 entries, 0 to 99\n",
      "Data columns (total 7 columns):\n",
      " #   Column                Non-Null Count  Dtype  \n",
      "---  ------                --------------  -----  \n",
      " 0   Rank                  100 non-null    object \n",
      " 1   Name                  100 non-null    object \n",
      " 2   Industry              100 non-null    object \n",
      " 3   Revenue_USD_millions  100 non-null    float64\n",
      " 4   Revenue_growth_%      100 non-null    float64\n",
      " 5   Employees             100 non-null    float64\n",
      " 6   Headquarters          100 non-null    object \n",
      "dtypes: float64(3), object(4)\n",
      "memory usage: 6.2+ KB\n"
     ]
    }
   ],
   "source": [
    "df = transform(df)\n",
    "df.info()"
   ]
  },
  {
   "cell_type": "code",
   "execution_count": 7,
   "id": "d04a5f12",
   "metadata": {},
   "outputs": [],
   "source": [
    "def load_to_csv(df, csv_path):\n",
    "    df.to_csv('Largest_companies.csv', index=False)\n",
    "\n",
    "sql_connection = sqlite3.connect(db_name)\n",
    "\n",
    "def load_to_sql(df, sql_connection, table_name):\n",
    "    df.to_sql(table_name, sql_connection, if_exists='replace', index=False)\n"
   ]
  },
  {
   "cell_type": "code",
   "execution_count": null,
   "id": "844e5342",
   "metadata": {},
   "outputs": [],
   "source": [
    "load_to_csv(df, csv_path)\n",
    "load_to_sql(df, sql_connection, table_name)"
   ]
  },
  {
   "cell_type": "code",
   "execution_count": 12,
   "id": "7130b370",
   "metadata": {},
   "outputs": [],
   "source": [
    "def log_progress(message):\n",
    "    timestamp_format = \"%Y-%h-%d-%H:%M:%S\"\n",
    "    now = datetime.now()\n",
    "    timestamp = now.strftime(timestamp_format)\n",
    "    with open(\"./etl_project_log.txt\", \"a\") as f:\n",
    "        f.write(timestamp + \" : \" + message + \"\\n\")"
   ]
  },
  {
   "cell_type": "code",
   "execution_count": 13,
   "id": "c7ff3227",
   "metadata": {},
   "outputs": [
    {
     "name": "stdout",
     "output_type": "stream",
     "text": [
      "SELECT * from companies WHERE [Revenue_growth_%] > 30\n",
      "  Rank              Name            Industry  Revenue_USD_millions  \\\n",
      "0    12   JPMorgan Chase  Financial services              239425.0   \n",
      "1    18  Bank of America          Financials              171912.0   \n",
      "2    21        Citigroup          Financials              156820.0   \n",
      "3    34      Wells Fargo          Financials              115340.0   \n",
      "4    35    Goldman Sachs          Financials              108418.0   \n",
      "5    41   Morgan Stanley          Financials               96194.0   \n",
      "6    65           Nvidia          Technology               60922.0   \n",
      "\n",
      "   Revenue_growth_%  Employees               Headquarters  \n",
      "0              54.7   309926.0    New York City, New York  \n",
      "1              49.4   212985.0  Charlotte, North Carolina  \n",
      "2              55.1   237925.0    New York City, New York  \n",
      "3              39.2   226000.0  San Francisco, California  \n",
      "4              57.8    45300.0    New York City, New York  \n",
      "5              45.9    80006.0    New York City, New York  \n",
      "6             125.9    29600.0    Santa Clara, California  \n"
     ]
    }
   ],
   "source": [
    "def run_query(query_statement, sql_connection):\n",
    "    print(query_statement)\n",
    "    query_output = pd.read_sql(query_statement, sql_connection)\n",
    "    print(query_output)\n",
    "\n",
    "query_statement = f\"SELECT * from {table_name} WHERE [Revenue_growth_%] > 30\"\n",
    "\n",
    "log_progress(\"Running the query\")\n",
    "run_query(query_statement, sql_connection)\n"
   ]
  },
  {
   "cell_type": "code",
   "execution_count": 14,
   "id": "cb256582",
   "metadata": {},
   "outputs": [],
   "source": [
    "sql_connection.close()"
   ]
  }
 ],
 "metadata": {
  "kernelspec": {
   "display_name": ".venv",
   "language": "python",
   "name": "python3"
  },
  "language_info": {
   "codemirror_mode": {
    "name": "ipython",
    "version": 3
   },
   "file_extension": ".py",
   "mimetype": "text/x-python",
   "name": "python",
   "nbconvert_exporter": "python",
   "pygments_lexer": "ipython3",
   "version": "3.12.1"
  }
 },
 "nbformat": 4,
 "nbformat_minor": 5
}
