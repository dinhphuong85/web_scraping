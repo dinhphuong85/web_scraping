{
 "cells": [
  {
   "cell_type": "code",
   "execution_count": 12,
   "id": "e59a763b",
   "metadata": {},
   "outputs": [],
   "source": [
    "from bs4 import BeautifulSoup\n",
    "import requests\n",
    "import pandas as pd\n",
    "from datetime import datetime\n",
    "import sqlite3"
   ]
  },
  {
   "cell_type": "code",
   "execution_count": 2,
   "id": "364d528d",
   "metadata": {},
   "outputs": [],
   "source": [
    "url ='https://en.wikipedia.org/wiki/List_of_largest_banks'\n",
    "\n",
    "table_attribs = [\"Rank\", \"Bank_name\", \"MC_USD_Billion\"]\n",
    "db_name = 'Largest_banks.db'\n",
    "table_name = 'banks'\n",
    "exchange_rate = 'exchange_rate.csv'\n",
    "csv_path = './largest_bank.csv'\n",
    "\n",
    "\n",
    "def extract(url, table_attribs):\n",
    "    page = requests.get(url).text\n",
    "    soup = BeautifulSoup(page, 'html.parser')\n",
    "    tables = soup.find_all('table')\n",
    "    rows = tables[0].find_all('tr')\n",
    "    df = pd.DataFrame(columns=table_attribs)\n",
    "    for row in rows:\n",
    "        cols = row.find_all('td')\n",
    "        if len(cols) != 0:\n",
    "            \n",
    "            data = [col.get_text(strip=True) for col in cols]\n",
    "            \n",
    "            df.loc[len(df)] = data\n",
    "    return df"
   ]
  },
  {
   "cell_type": "code",
   "execution_count": 3,
   "id": "b3dcd1f4",
   "metadata": {},
   "outputs": [],
   "source": [
    "df = extract(url, table_attribs)"
   ]
  },
  {
   "cell_type": "code",
   "execution_count": 4,
   "id": "c79df95c",
   "metadata": {},
   "outputs": [],
   "source": [
    "def log_progress(message):\n",
    "    timestamp_format = '%Y-%h-%d-%H:%M:%S'\n",
    "    now = datetime.now()\n",
    "    timestamp = now.strftime(timestamp_format)\n",
    "    with open('./etl_banks_project_log.txt', \"a\") as f:\n",
    "        f.write(timestamp + \" : \" + message + \"\\n\")\n",
    "    "
   ]
  },
  {
   "cell_type": "code",
   "execution_count": null,
   "id": "80e44222",
   "metadata": {},
   "outputs": [],
   "source": [
    "log_progress('Data extraction complete. Initiating Transformation process')"
   ]
  },
  {
   "cell_type": "code",
   "execution_count": 7,
   "id": "3c2cb31b",
   "metadata": {},
   "outputs": [],
   "source": [
    "def transform(df, exchange_rate):\n",
    "    df[\"MC_USD_Billion\"] = df[\"MC_USD_Billion\"].map(\n",
    "        lambda x: float(str(x).replace(',', \"\"))\n",
    "    )\n",
    "    rates = pd.read_csv(exchange_rate, index_col='Currency'). squeeze()\n",
    "    df['MC_GBP_Billion'] = (df['MC_USD_Billion'] * rates['GBP']).round(2)\n",
    "    df['MC_EUR_Billion'] = (df['MC_USD_Billion'] * rates['EUR']).round(2)\n",
    "    df['MC_INR_Billion'] = (df['MC_USD_Billion'] * rates['INR']).round(2)\n",
    "    return df"
   ]
  },
  {
   "cell_type": "code",
   "execution_count": 8,
   "id": "a9224e29",
   "metadata": {},
   "outputs": [],
   "source": [
    "df = transform(df, exchange_rate)"
   ]
  },
  {
   "cell_type": "code",
   "execution_count": 9,
   "id": "da1023b4",
   "metadata": {},
   "outputs": [],
   "source": [
    "def load_to_csv(df, csv_path):\n",
    "    df.to_csv(csv_path)\n",
    "\n",
    "def load_to_db(df, sql_connection, table_name):\n",
    "    df.to_sql(table_name, sql_connection, if_exists='replace', index=False)\n",
    "\n",
    "def run_query(query_statement, sql_connection):\n",
    "    print(query_statement)\n",
    "    query_output = pd.read_sql(query_statement, sql_connection)\n",
    "    print(query_output)\n"
   ]
  },
  {
   "cell_type": "code",
   "execution_count": 13,
   "id": "bcc58ab3",
   "metadata": {},
   "outputs": [],
   "source": [
    "sql_connection = sqlite3.connect(db_name)"
   ]
  },
  {
   "cell_type": "code",
   "execution_count": 16,
   "id": "d656dd17",
   "metadata": {},
   "outputs": [
    {
     "name": "stdout",
     "output_type": "stream",
     "text": [
      "SELECT * from banks\n",
      "   Rank                                Bank_name  MC_USD_Billion  \\\n",
      "0     1  Industrial and Commercial Bank of China         6303.44   \n",
      "1     2               Agricultural Bank of China         5623.12   \n",
      "2     3                  China Construction Bank         5400.28   \n",
      "3     4                            Bank of China         4578.28   \n",
      "4     5                           JPMorgan Chase         4002.81   \n",
      "..  ...                                      ...             ...   \n",
      "95   96                            Handelsbanken          351.79   \n",
      "96   97                 Industrial Bank of Korea          345.81   \n",
      "97   98                                      DNB          339.21   \n",
      "98   99                      Qatar National Bank          338.14   \n",
      "99  100                  National Bank of Canada          337.65   \n",
      "\n",
      "    MC_GBP_Billion  MC_EUR_Billion  MC_INR_Billion  \n",
      "0          5042.75         5862.20       522870.35  \n",
      "1          4498.50         5229.50       466437.80  \n",
      "2          4320.22         5022.26       447953.23  \n",
      "3          3662.62         4257.80       379768.33  \n",
      "4          3202.25         3722.61       332033.09  \n",
      "..             ...             ...             ...  \n",
      "95          281.43          327.16        29180.98  \n",
      "96          276.65          321.60        28684.94  \n",
      "97          271.37          315.47        28137.47  \n",
      "98          270.51          314.47        28048.71  \n",
      "99          270.12          314.01        28008.07  \n",
      "\n",
      "[100 rows x 6 columns]\n",
      "SELECT AVG(MC_GBP_Billion) from banks\n",
      "   AVG(MC_GBP_Billion)\n",
      "0             943.2005\n",
      "SELECT Bank_name from banks LIMIT 5\n",
      "                                 Bank_name\n",
      "0  Industrial and Commercial Bank of China\n",
      "1               Agricultural Bank of China\n",
      "2                  China Construction Bank\n",
      "3                            Bank of China\n",
      "4                           JPMorgan Chase\n"
     ]
    }
   ],
   "source": [
    "load_to_csv(df, csv_path)\n",
    "load_to_db(df, sql_connection, table_name)\n",
    "\n",
    "log_progress('Data loaded to Database as table. Executing queries')\n",
    "\n",
    "query_statement= f\"SELECT * from {table_name}\"\n",
    "run_query(query_statement, sql_connection)\n",
    "\n",
    "query_statement = f\"SELECT AVG(MC_GBP_Billion) from {table_name}\"\n",
    "run_query(query_statement, sql_connection)\n",
    "\n",
    "query_statement = f\"SELECT Bank_name from {table_name} LIMIT 5\"\n",
    "run_query(query_statement, sql_connection)"
   ]
  },
  {
   "cell_type": "code",
   "execution_count": 17,
   "id": "0807c645",
   "metadata": {},
   "outputs": [],
   "source": [
    "sql_connection.close()\n",
    "\n",
    "log_progress('Server Connection closed.')"
   ]
  }
 ],
 "metadata": {
  "kernelspec": {
   "display_name": ".venv",
   "language": "python",
   "name": "python3"
  },
  "language_info": {
   "codemirror_mode": {
    "name": "ipython",
    "version": 3
   },
   "file_extension": ".py",
   "mimetype": "text/x-python",
   "name": "python",
   "nbconvert_exporter": "python",
   "pygments_lexer": "ipython3",
   "version": "3.12.1"
  }
 },
 "nbformat": 4,
 "nbformat_minor": 5
}
